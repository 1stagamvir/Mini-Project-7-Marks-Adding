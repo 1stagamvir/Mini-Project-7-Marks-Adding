{
  "nbformat": 4,
  "nbformat_minor": 0,
  "metadata": {
    "colab": {
      "provenance": [],
      "authorship_tag": "ABX9TyMuL4yYnGTOcFNZa/aHlJYz",
      "include_colab_link": true
    },
    "kernelspec": {
      "name": "python3",
      "display_name": "Python 3"
    },
    "language_info": {
      "name": "python"
    }
  },
  "cells": [
    {
      "cell_type": "markdown",
      "metadata": {
        "id": "view-in-github",
        "colab_type": "text"
      },
      "source": [
        "<a href=\"https://colab.research.google.com/github/1stagamvir/Mini-Project-7-Marks-Adding/blob/main/Mini_project_7_Marks_adding.ipynb\" target=\"_parent\"><img src=\"https://colab.research.google.com/assets/colab-badge.svg\" alt=\"Open In Colab\"/></a>"
      ]
    },
    {
      "cell_type": "markdown",
      "source": [
        "---\n",
        "# STEP-1\n",
        "---\n",
        "\n",
        "\n"
      ],
      "metadata": {
        "id": "W9rwzc_V6u9s"
      }
    },
    {
      "cell_type": "code",
      "execution_count": null,
      "metadata": {
        "id": "0GpvKkU1zVQ1"
      },
      "outputs": [],
      "source": [
        "import csv\n",
        "\n",
        "file=open('marks.csv','r')\n",
        "csvreader=csv.reader(file)\n",
        "header=next(csvreader) #Extracts the header\n",
        "print(header)\n",
        "for row in csvreader:\n",
        "    print(row)\n"
      ]
    },
    {
      "cell_type": "markdown",
      "source": [
        "\n",
        "\n",
        "---\n",
        "# STEP -2\n",
        "---\n",
        "\n"
      ],
      "metadata": {
        "id": "_GRqpPFD6VYL"
      }
    },
    {
      "cell_type": "code",
      "source": [
        "import csv\n",
        "file=open('marks.csv','r')\n",
        "csvreader=csv.reader(file)\n",
        "header=next(csvreader) #Extracts the header\n",
        "\n",
        "totalmarks={}\n",
        "for row in csvreader:\n",
        "    x=row[0]\n",
        "    if x in totalmarks:\n",
        "        totalmarks[x]=totalmarks[x]+int(row[1])\n",
        "    else:\n",
        "        totalmarks[x]=int(row[1])\n",
        "\n",
        "print(totalmarks)\n"
      ],
      "metadata": {
        "id": "gGELS9mO4U-0"
      },
      "execution_count": null,
      "outputs": []
    }
  ]
}